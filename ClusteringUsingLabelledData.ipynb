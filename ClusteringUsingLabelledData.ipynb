{
  "nbformat": 4,
  "nbformat_minor": 0,
  "metadata": {
    "colab": {
      "name": "ClusteringUsingLabelledData.ipynb",
      "provenance": [],
      "collapsed_sections": [],
      "authorship_tag": "ABX9TyNXhHrGf1yZayxqMWDtACDx",
      "include_colab_link": true
    },
    "kernelspec": {
      "name": "python3",
      "display_name": "Python 3"
    },
    "language_info": {
      "name": "python"
    }
  },
  "cells": [
    {
      "cell_type": "markdown",
      "metadata": {
        "id": "view-in-github",
        "colab_type": "text"
      },
      "source": [
        "<a href=\"https://colab.research.google.com/github/Laura-Neff/ClusteringUsingLabelledData/blob/main/ClusteringUsingLabelledData.ipynb\" target=\"_parent\"><img src=\"https://colab.research.google.com/assets/colab-badge.svg\" alt=\"Open In Colab\"/></a>"
      ]
    },
    {
      "cell_type": "code",
      "execution_count": null,
      "metadata": {
        "id": "_95Mgl_TMnig"
      },
      "outputs": [],
      "source": [
        "import pandas as pd\n",
        "import matplotlib.pyplot as plt\n",
        "import numpy as np"
      ]
    },
    {
      "cell_type": "markdown",
      "source": [
        "Cars Dataset\n",
        "Source : https://www.kaggle.com/abineshkumark/carsdata\n",
        "\n",
        "Cars Data has Information about 3 brands/make of cars. Namely US, Japan, Europe.\n",
        "\n",
        "Target of the data set to find the brand of a car using the parameters such as horsepower, Cubic inches, Make year, etc."
      ],
      "metadata": {
        "id": "elNGVXwTMupO"
      }
    },
    {
      "cell_type": "code",
      "source": [
        "data = pd.read_csv('cars.csv')\n",
        "\n",
        "data.head()"
      ],
      "metadata": {
        "colab": {
          "base_uri": "https://localhost:8080/",
          "height": 206
        },
        "id": "etuPvhz-Mp_Q",
        "outputId": "f9d3f03c-6b91-4881-97df-9a1d6601da97"
      },
      "execution_count": null,
      "outputs": [
        {
          "output_type": "execute_result",
          "data": {
            "text/plain": [
              "    mpg   cylinders  cubicinches   hp  weightlbs   time-to-60   year     brand\n",
              "0  14.0           8          350  165       4209           12   1972       US.\n",
              "1  31.9           4           89   71       1925           14   1980   Europe.\n",
              "2  17.0           8          302  140       3449           11   1971       US.\n",
              "3  15.0           8          400  150       3761           10   1971       US.\n",
              "4  30.5           4           98   63       2051           17   1978       US."
            ],
            "text/html": [
              "\n",
              "  <div id=\"df-00b26914-6905-4e31-8af8-064fb735d105\">\n",
              "    <div class=\"colab-df-container\">\n",
              "      <div>\n",
              "<style scoped>\n",
              "    .dataframe tbody tr th:only-of-type {\n",
              "        vertical-align: middle;\n",
              "    }\n",
              "\n",
              "    .dataframe tbody tr th {\n",
              "        vertical-align: top;\n",
              "    }\n",
              "\n",
              "    .dataframe thead th {\n",
              "        text-align: right;\n",
              "    }\n",
              "</style>\n",
              "<table border=\"1\" class=\"dataframe\">\n",
              "  <thead>\n",
              "    <tr style=\"text-align: right;\">\n",
              "      <th></th>\n",
              "      <th>mpg</th>\n",
              "      <th>cylinders</th>\n",
              "      <th>cubicinches</th>\n",
              "      <th>hp</th>\n",
              "      <th>weightlbs</th>\n",
              "      <th>time-to-60</th>\n",
              "      <th>year</th>\n",
              "      <th>brand</th>\n",
              "    </tr>\n",
              "  </thead>\n",
              "  <tbody>\n",
              "    <tr>\n",
              "      <th>0</th>\n",
              "      <td>14.0</td>\n",
              "      <td>8</td>\n",
              "      <td>350</td>\n",
              "      <td>165</td>\n",
              "      <td>4209</td>\n",
              "      <td>12</td>\n",
              "      <td>1972</td>\n",
              "      <td>US.</td>\n",
              "    </tr>\n",
              "    <tr>\n",
              "      <th>1</th>\n",
              "      <td>31.9</td>\n",
              "      <td>4</td>\n",
              "      <td>89</td>\n",
              "      <td>71</td>\n",
              "      <td>1925</td>\n",
              "      <td>14</td>\n",
              "      <td>1980</td>\n",
              "      <td>Europe.</td>\n",
              "    </tr>\n",
              "    <tr>\n",
              "      <th>2</th>\n",
              "      <td>17.0</td>\n",
              "      <td>8</td>\n",
              "      <td>302</td>\n",
              "      <td>140</td>\n",
              "      <td>3449</td>\n",
              "      <td>11</td>\n",
              "      <td>1971</td>\n",
              "      <td>US.</td>\n",
              "    </tr>\n",
              "    <tr>\n",
              "      <th>3</th>\n",
              "      <td>15.0</td>\n",
              "      <td>8</td>\n",
              "      <td>400</td>\n",
              "      <td>150</td>\n",
              "      <td>3761</td>\n",
              "      <td>10</td>\n",
              "      <td>1971</td>\n",
              "      <td>US.</td>\n",
              "    </tr>\n",
              "    <tr>\n",
              "      <th>4</th>\n",
              "      <td>30.5</td>\n",
              "      <td>4</td>\n",
              "      <td>98</td>\n",
              "      <td>63</td>\n",
              "      <td>2051</td>\n",
              "      <td>17</td>\n",
              "      <td>1978</td>\n",
              "      <td>US.</td>\n",
              "    </tr>\n",
              "  </tbody>\n",
              "</table>\n",
              "</div>\n",
              "      <button class=\"colab-df-convert\" onclick=\"convertToInteractive('df-00b26914-6905-4e31-8af8-064fb735d105')\"\n",
              "              title=\"Convert this dataframe to an interactive table.\"\n",
              "              style=\"display:none;\">\n",
              "        \n",
              "  <svg xmlns=\"http://www.w3.org/2000/svg\" height=\"24px\"viewBox=\"0 0 24 24\"\n",
              "       width=\"24px\">\n",
              "    <path d=\"M0 0h24v24H0V0z\" fill=\"none\"/>\n",
              "    <path d=\"M18.56 5.44l.94 2.06.94-2.06 2.06-.94-2.06-.94-.94-2.06-.94 2.06-2.06.94zm-11 1L8.5 8.5l.94-2.06 2.06-.94-2.06-.94L8.5 2.5l-.94 2.06-2.06.94zm10 10l.94 2.06.94-2.06 2.06-.94-2.06-.94-.94-2.06-.94 2.06-2.06.94z\"/><path d=\"M17.41 7.96l-1.37-1.37c-.4-.4-.92-.59-1.43-.59-.52 0-1.04.2-1.43.59L10.3 9.45l-7.72 7.72c-.78.78-.78 2.05 0 2.83L4 21.41c.39.39.9.59 1.41.59.51 0 1.02-.2 1.41-.59l7.78-7.78 2.81-2.81c.8-.78.8-2.07 0-2.86zM5.41 20L4 18.59l7.72-7.72 1.47 1.35L5.41 20z\"/>\n",
              "  </svg>\n",
              "      </button>\n",
              "      \n",
              "  <style>\n",
              "    .colab-df-container {\n",
              "      display:flex;\n",
              "      flex-wrap:wrap;\n",
              "      gap: 12px;\n",
              "    }\n",
              "\n",
              "    .colab-df-convert {\n",
              "      background-color: #E8F0FE;\n",
              "      border: none;\n",
              "      border-radius: 50%;\n",
              "      cursor: pointer;\n",
              "      display: none;\n",
              "      fill: #1967D2;\n",
              "      height: 32px;\n",
              "      padding: 0 0 0 0;\n",
              "      width: 32px;\n",
              "    }\n",
              "\n",
              "    .colab-df-convert:hover {\n",
              "      background-color: #E2EBFA;\n",
              "      box-shadow: 0px 1px 2px rgba(60, 64, 67, 0.3), 0px 1px 3px 1px rgba(60, 64, 67, 0.15);\n",
              "      fill: #174EA6;\n",
              "    }\n",
              "\n",
              "    [theme=dark] .colab-df-convert {\n",
              "      background-color: #3B4455;\n",
              "      fill: #D2E3FC;\n",
              "    }\n",
              "\n",
              "    [theme=dark] .colab-df-convert:hover {\n",
              "      background-color: #434B5C;\n",
              "      box-shadow: 0px 1px 3px 1px rgba(0, 0, 0, 0.15);\n",
              "      filter: drop-shadow(0px 1px 2px rgba(0, 0, 0, 0.3));\n",
              "      fill: #FFFFFF;\n",
              "    }\n",
              "  </style>\n",
              "\n",
              "      <script>\n",
              "        const buttonEl =\n",
              "          document.querySelector('#df-00b26914-6905-4e31-8af8-064fb735d105 button.colab-df-convert');\n",
              "        buttonEl.style.display =\n",
              "          google.colab.kernel.accessAllowed ? 'block' : 'none';\n",
              "\n",
              "        async function convertToInteractive(key) {\n",
              "          const element = document.querySelector('#df-00b26914-6905-4e31-8af8-064fb735d105');\n",
              "          const dataTable =\n",
              "            await google.colab.kernel.invokeFunction('convertToInteractive',\n",
              "                                                     [key], {});\n",
              "          if (!dataTable) return;\n",
              "\n",
              "          const docLinkHtml = 'Like what you see? Visit the ' +\n",
              "            '<a target=\"_blank\" href=https://colab.research.google.com/notebooks/data_table.ipynb>data table notebook</a>'\n",
              "            + ' to learn more about interactive tables.';\n",
              "          element.innerHTML = '';\n",
              "          dataTable['output_type'] = 'display_data';\n",
              "          await google.colab.output.renderOutput(dataTable, element);\n",
              "          const docLink = document.createElement('div');\n",
              "          docLink.innerHTML = docLinkHtml;\n",
              "          element.appendChild(docLink);\n",
              "        }\n",
              "      </script>\n",
              "    </div>\n",
              "  </div>\n",
              "  "
            ]
          },
          "metadata": {},
          "execution_count": 47
        }
      ]
    },
    {
      "cell_type": "code",
      "source": [
        "data.shape"
      ],
      "metadata": {
        "colab": {
          "base_uri": "https://localhost:8080/"
        },
        "id": "IYNWLmIVMqCG",
        "outputId": "6abff0f4-7f75-4e9d-b51f-cbbb9d97650f"
      },
      "execution_count": null,
      "outputs": [
        {
          "output_type": "execute_result",
          "data": {
            "text/plain": [
              "(261, 8)"
            ]
          },
          "metadata": {},
          "execution_count": 48
        }
      ]
    },
    {
      "cell_type": "markdown",
      "source": [
        "Taking full fraction of data\n",
        "- It shuffles the data"
      ],
      "metadata": {
        "id": "bYRJ5KnrM5JU"
      }
    },
    {
      "cell_type": "code",
      "source": [
        "data = data.sample(frac=1)"
      ],
      "metadata": {
        "id": "N9PFyvgKMqE2"
      },
      "execution_count": null,
      "outputs": []
    },
    {
      "cell_type": "code",
      "source": [
        "data.info()\n",
        "#get rid of objects"
      ],
      "metadata": {
        "colab": {
          "base_uri": "https://localhost:8080/"
        },
        "id": "lGsC9vVIMqHU",
        "outputId": "0e317f1c-ea6f-4071-f840-4451e5db3aef"
      },
      "execution_count": null,
      "outputs": [
        {
          "output_type": "stream",
          "name": "stdout",
          "text": [
            "<class 'pandas.core.frame.DataFrame'>\n",
            "Int64Index: 261 entries, 126 to 26\n",
            "Data columns (total 8 columns):\n",
            " #   Column        Non-Null Count  Dtype  \n",
            "---  ------        --------------  -----  \n",
            " 0   mpg           261 non-null    float64\n",
            " 1    cylinders    261 non-null    int64  \n",
            " 2    cubicinches  261 non-null    object \n",
            " 3    hp           261 non-null    int64  \n",
            " 4    weightlbs    261 non-null    object \n",
            " 5    time-to-60   261 non-null    int64  \n",
            " 6    year         261 non-null    int64  \n",
            " 7    brand        261 non-null    object \n",
            "dtypes: float64(1), int64(4), object(3)\n",
            "memory usage: 18.4+ KB\n"
          ]
        }
      ]
    },
    {
      "cell_type": "markdown",
      "source": [
        "Removing leading space from column names"
      ],
      "metadata": {
        "id": "PpWeoYayNEpu"
      }
    },
    {
      "cell_type": "code",
      "source": [
        "data.columns = data.columns.str.lstrip()\n",
        "#strip leading space"
      ],
      "metadata": {
        "id": "X9-4lx-DMqKG"
      },
      "execution_count": null,
      "outputs": []
    },
    {
      "cell_type": "code",
      "source": [
        "data.columns"
      ],
      "metadata": {
        "colab": {
          "base_uri": "https://localhost:8080/"
        },
        "id": "dtKupmZzMqMq",
        "outputId": "f447d132-3e91-4b58-a9a3-466be397b494"
      },
      "execution_count": null,
      "outputs": [
        {
          "output_type": "execute_result",
          "data": {
            "text/plain": [
              "Index(['mpg', 'cylinders', 'cubicinches', 'hp', 'weightlbs', 'time-to-60',\n",
              "       'year', 'brand'],\n",
              "      dtype='object')"
            ]
          },
          "metadata": {},
          "execution_count": 52
        }
      ]
    },
    {
      "cell_type": "code",
      "source": [
        "data['cubicinches'] = pd.to_numeric(data['cubicinches'], errors='coerce')\n",
        "data['weightlbs'] = pd.to_numeric(data['weightlbs'], errors='coerce')\n",
        "#errors = coerce means invalid values are set to NaN"
      ],
      "metadata": {
        "id": "uq3odD9fMqP0"
      },
      "execution_count": null,
      "outputs": []
    },
    {
      "cell_type": "code",
      "source": [
        "data.dropna(inplace=True)\n",
        "#drop all records with nans"
      ],
      "metadata": {
        "id": "hFNygOy7MqSP"
      },
      "execution_count": null,
      "outputs": []
    },
    {
      "cell_type": "code",
      "source": [
        "data.shape"
      ],
      "metadata": {
        "colab": {
          "base_uri": "https://localhost:8080/"
        },
        "id": "8aE1oQ1WMqVT",
        "outputId": "5a2ca664-9356-4214-dfda-e0f69a70d3c3"
      },
      "execution_count": null,
      "outputs": [
        {
          "output_type": "execute_result",
          "data": {
            "text/plain": [
              "(256, 8)"
            ]
          },
          "metadata": {},
          "execution_count": 55
        }
      ]
    },
    {
      "cell_type": "markdown",
      "source": [
        "Label encoding"
      ],
      "metadata": {
        "id": "MSv52pzwO3Al"
      }
    },
    {
      "cell_type": "code",
      "source": [
        "from sklearn.preprocessing import LabelEncoder\n",
        "\n",
        "labelEncoder = LabelEncoder()\n",
        "data['brand'] = labelEncoder.fit_transform(data['brand'].astype(str))\n",
        "\n",
        "data.head()\n",
        "\n",
        "#convert string vals in numeric format"
      ],
      "metadata": {
        "colab": {
          "base_uri": "https://localhost:8080/",
          "height": 206
        },
        "id": "UZpqCAFTNeqE",
        "outputId": "4375c2dd-ba3f-4f38-fd4f-18a0d7808843"
      },
      "execution_count": null,
      "outputs": [
        {
          "output_type": "execute_result",
          "data": {
            "text/plain": [
              "      mpg  cylinders  cubicinches   hp  weightlbs  time-to-60  year  brand\n",
              "126  13.0          8        360.0  170     4654.0          13  1974      2\n",
              "215  32.9          4        119.0  100     2615.0          15  1982      1\n",
              "71   27.0          4        112.0   88     2640.0          19  1983      2\n",
              "44   14.0          8        455.0  225     3086.0          10  1971      2\n",
              "229  27.0          4        140.0   86     2790.0          16  1983      2"
            ],
            "text/html": [
              "\n",
              "  <div id=\"df-d061d92a-e17c-4a52-8d00-7bb74b000eed\">\n",
              "    <div class=\"colab-df-container\">\n",
              "      <div>\n",
              "<style scoped>\n",
              "    .dataframe tbody tr th:only-of-type {\n",
              "        vertical-align: middle;\n",
              "    }\n",
              "\n",
              "    .dataframe tbody tr th {\n",
              "        vertical-align: top;\n",
              "    }\n",
              "\n",
              "    .dataframe thead th {\n",
              "        text-align: right;\n",
              "    }\n",
              "</style>\n",
              "<table border=\"1\" class=\"dataframe\">\n",
              "  <thead>\n",
              "    <tr style=\"text-align: right;\">\n",
              "      <th></th>\n",
              "      <th>mpg</th>\n",
              "      <th>cylinders</th>\n",
              "      <th>cubicinches</th>\n",
              "      <th>hp</th>\n",
              "      <th>weightlbs</th>\n",
              "      <th>time-to-60</th>\n",
              "      <th>year</th>\n",
              "      <th>brand</th>\n",
              "    </tr>\n",
              "  </thead>\n",
              "  <tbody>\n",
              "    <tr>\n",
              "      <th>126</th>\n",
              "      <td>13.0</td>\n",
              "      <td>8</td>\n",
              "      <td>360.0</td>\n",
              "      <td>170</td>\n",
              "      <td>4654.0</td>\n",
              "      <td>13</td>\n",
              "      <td>1974</td>\n",
              "      <td>2</td>\n",
              "    </tr>\n",
              "    <tr>\n",
              "      <th>215</th>\n",
              "      <td>32.9</td>\n",
              "      <td>4</td>\n",
              "      <td>119.0</td>\n",
              "      <td>100</td>\n",
              "      <td>2615.0</td>\n",
              "      <td>15</td>\n",
              "      <td>1982</td>\n",
              "      <td>1</td>\n",
              "    </tr>\n",
              "    <tr>\n",
              "      <th>71</th>\n",
              "      <td>27.0</td>\n",
              "      <td>4</td>\n",
              "      <td>112.0</td>\n",
              "      <td>88</td>\n",
              "      <td>2640.0</td>\n",
              "      <td>19</td>\n",
              "      <td>1983</td>\n",
              "      <td>2</td>\n",
              "    </tr>\n",
              "    <tr>\n",
              "      <th>44</th>\n",
              "      <td>14.0</td>\n",
              "      <td>8</td>\n",
              "      <td>455.0</td>\n",
              "      <td>225</td>\n",
              "      <td>3086.0</td>\n",
              "      <td>10</td>\n",
              "      <td>1971</td>\n",
              "      <td>2</td>\n",
              "    </tr>\n",
              "    <tr>\n",
              "      <th>229</th>\n",
              "      <td>27.0</td>\n",
              "      <td>4</td>\n",
              "      <td>140.0</td>\n",
              "      <td>86</td>\n",
              "      <td>2790.0</td>\n",
              "      <td>16</td>\n",
              "      <td>1983</td>\n",
              "      <td>2</td>\n",
              "    </tr>\n",
              "  </tbody>\n",
              "</table>\n",
              "</div>\n",
              "      <button class=\"colab-df-convert\" onclick=\"convertToInteractive('df-d061d92a-e17c-4a52-8d00-7bb74b000eed')\"\n",
              "              title=\"Convert this dataframe to an interactive table.\"\n",
              "              style=\"display:none;\">\n",
              "        \n",
              "  <svg xmlns=\"http://www.w3.org/2000/svg\" height=\"24px\"viewBox=\"0 0 24 24\"\n",
              "       width=\"24px\">\n",
              "    <path d=\"M0 0h24v24H0V0z\" fill=\"none\"/>\n",
              "    <path d=\"M18.56 5.44l.94 2.06.94-2.06 2.06-.94-2.06-.94-.94-2.06-.94 2.06-2.06.94zm-11 1L8.5 8.5l.94-2.06 2.06-.94-2.06-.94L8.5 2.5l-.94 2.06-2.06.94zm10 10l.94 2.06.94-2.06 2.06-.94-2.06-.94-.94-2.06-.94 2.06-2.06.94z\"/><path d=\"M17.41 7.96l-1.37-1.37c-.4-.4-.92-.59-1.43-.59-.52 0-1.04.2-1.43.59L10.3 9.45l-7.72 7.72c-.78.78-.78 2.05 0 2.83L4 21.41c.39.39.9.59 1.41.59.51 0 1.02-.2 1.41-.59l7.78-7.78 2.81-2.81c.8-.78.8-2.07 0-2.86zM5.41 20L4 18.59l7.72-7.72 1.47 1.35L5.41 20z\"/>\n",
              "  </svg>\n",
              "      </button>\n",
              "      \n",
              "  <style>\n",
              "    .colab-df-container {\n",
              "      display:flex;\n",
              "      flex-wrap:wrap;\n",
              "      gap: 12px;\n",
              "    }\n",
              "\n",
              "    .colab-df-convert {\n",
              "      background-color: #E8F0FE;\n",
              "      border: none;\n",
              "      border-radius: 50%;\n",
              "      cursor: pointer;\n",
              "      display: none;\n",
              "      fill: #1967D2;\n",
              "      height: 32px;\n",
              "      padding: 0 0 0 0;\n",
              "      width: 32px;\n",
              "    }\n",
              "\n",
              "    .colab-df-convert:hover {\n",
              "      background-color: #E2EBFA;\n",
              "      box-shadow: 0px 1px 2px rgba(60, 64, 67, 0.3), 0px 1px 3px 1px rgba(60, 64, 67, 0.15);\n",
              "      fill: #174EA6;\n",
              "    }\n",
              "\n",
              "    [theme=dark] .colab-df-convert {\n",
              "      background-color: #3B4455;\n",
              "      fill: #D2E3FC;\n",
              "    }\n",
              "\n",
              "    [theme=dark] .colab-df-convert:hover {\n",
              "      background-color: #434B5C;\n",
              "      box-shadow: 0px 1px 3px 1px rgba(0, 0, 0, 0.15);\n",
              "      filter: drop-shadow(0px 1px 2px rgba(0, 0, 0, 0.3));\n",
              "      fill: #FFFFFF;\n",
              "    }\n",
              "  </style>\n",
              "\n",
              "      <script>\n",
              "        const buttonEl =\n",
              "          document.querySelector('#df-d061d92a-e17c-4a52-8d00-7bb74b000eed button.colab-df-convert');\n",
              "        buttonEl.style.display =\n",
              "          google.colab.kernel.accessAllowed ? 'block' : 'none';\n",
              "\n",
              "        async function convertToInteractive(key) {\n",
              "          const element = document.querySelector('#df-d061d92a-e17c-4a52-8d00-7bb74b000eed');\n",
              "          const dataTable =\n",
              "            await google.colab.kernel.invokeFunction('convertToInteractive',\n",
              "                                                     [key], {});\n",
              "          if (!dataTable) return;\n",
              "\n",
              "          const docLinkHtml = 'Like what you see? Visit the ' +\n",
              "            '<a target=\"_blank\" href=https://colab.research.google.com/notebooks/data_table.ipynb>data table notebook</a>'\n",
              "            + ' to learn more about interactive tables.';\n",
              "          element.innerHTML = '';\n",
              "          dataTable['output_type'] = 'display_data';\n",
              "          await google.colab.output.renderOutput(dataTable, element);\n",
              "          const docLink = document.createElement('div');\n",
              "          docLink.innerHTML = docLinkHtml;\n",
              "          element.appendChild(docLink);\n",
              "        }\n",
              "      </script>\n",
              "    </div>\n",
              "  </div>\n",
              "  "
            ]
          },
          "metadata": {},
          "execution_count": 56
        }
      ]
    },
    {
      "cell_type": "code",
      "source": [
        "data_x =  pd.DataFrame(data, columns=['mpg', 'cubicinches', 'cylinders', 'hp'])\n",
        "\n",
        "label_y = data['brand']"
      ],
      "metadata": {
        "id": "UzRogNHgNes5"
      },
      "execution_count": null,
      "outputs": []
    },
    {
      "cell_type": "markdown",
      "source": [
        "From below scatter we can see as weight decreases mpg increases."
      ],
      "metadata": {
        "id": "qMqe-6ogPB88"
      }
    },
    {
      "cell_type": "code",
      "source": [
        "plt.figure(figsize=(10, 8))\n",
        "\n",
        "plt.scatter(data['mpg'], data['weightlbs'])\n",
        "\n",
        "plt.xlabel(\"Mileage per gallon\")\n",
        "plt.ylabel(\"Weight\")"
      ],
      "metadata": {
        "colab": {
          "base_uri": "https://localhost:8080/",
          "height": 515
        },
        "id": "AM5AQJ0DNevw",
        "outputId": "f875df73-5f27-48dd-f0f7-c62caf458b05"
      },
      "execution_count": null,
      "outputs": [
        {
          "output_type": "execute_result",
          "data": {
            "text/plain": [
              "Text(0, 0.5, 'Weight')"
            ]
          },
          "metadata": {},
          "execution_count": 58
        },
        {
          "output_type": "display_data",
          "data": {
            "text/plain": [
              "<Figure size 720x576 with 1 Axes>"
            ],
            "image/png": "[encoded data removed]"
          },
          "metadata": {
            "needs_background": "light"
          }
        }
      ]
    },
    {
      "cell_type": "markdown",
      "source": [
        "KMeans Clustering"
      ],
      "metadata": {
        "id": "N7EIsrobPe3c"
      }
    },
    {
      "cell_type": "code",
      "source": [
        "from sklearn.cluster import KMeans"
      ],
      "metadata": {
        "id": "DZmpm9LwNeyq"
      },
      "execution_count": null,
      "outputs": []
    },
    {
      "cell_type": "markdown",
      "source": [
        "- Plot the sum of squared distances from cluster center to number of clusters\n",
        "   - inertia_ : Sum of squared distances of samples to their closest cluster center. A measure of how good the clustering is\n",
        "   - it's hard to tell how many clusters will give us the best possible clustering. In order to figure out how many number of clusters work well for the data, visualize the sum of the squared distances of all of the data points from cluster centers\n",
        "\n",
        "   - you want to choose the ELBOW number in the ELBOW plot "
      ],
      "metadata": {
        "id": "Kw1DfABPPkuw"
      }
    },
    {
      "cell_type": "code",
      "source": [
        "#sum of data points from all cluster centers should be small\n",
        "#clusters are compact and data points in a cluster are close together \n",
        "sum_of_squared_distances = []\n",
        "\n",
        "K = range(1,15)\n",
        "\n",
        "for k in K:\n",
        "    k_means = KMeans(n_clusters=k)\n",
        "    k_means = k_means.fit(data_x)\n",
        "\n",
        "    sum_of_squared_distances.append(k_means.inertia_)\n",
        "\n",
        "plt.plot(K, sum_of_squared_distances, 'bx-')\n",
        "plt.xlabel('k')\n",
        "plt.ylabel('Sum of squared distances')\n",
        "\n",
        "plt.title('Elbow plot for optimal number of clusters')\n",
        "plt.show()\n",
        "\n"
      ],
      "metadata": {
        "colab": {
          "base_uri": "https://localhost:8080/",
          "height": 295
        },
        "id": "IzNLAfR8Ne1M",
        "outputId": "a682a536-140b-4b74-a38a-b0728959daa7"
      },
      "execution_count": null,
      "outputs": [
        {
          "output_type": "display_data",
          "data": {
            "text/plain": [
              "<Figure size 432x288 with 1 Axes>"
            ],
            "image/png": "[encoded data removed]"
          },
          "metadata": {
            "needs_background": "light"
          }
        }
      ]
    },
    {
      "cell_type": "code",
      "source": [
        "k_means = KMeans(n_clusters=3)\n",
        "k_means = k_means.fit(data_x)"
      ],
      "metadata": {
        "id": "HoiB0VoaNe4c"
      },
      "execution_count": null,
      "outputs": []
    },
    {
      "cell_type": "code",
      "source": [
        "from sklearn.metrics import silhouette_score\n",
        "\n",
        "score = silhouette_score (data_x, k_means.labels_)\n",
        "\n",
        "print(\"Score = \", score)"
      ],
      "metadata": {
        "colab": {
          "base_uri": "https://localhost:8080/"
        },
        "id": "3KzXTB_CSok1",
        "outputId": "7d888337-85b9-4691-b4ae-9859f498c6c4"
      },
      "execution_count": null,
      "outputs": [
        {
          "output_type": "stream",
          "name": "stdout",
          "text": [
            "Score =  0.6323149311159748\n"
          ]
        }
      ]
    },
    {
      "cell_type": "code",
      "source": [
        "from sklearn.metrics import homogeneity_score\n",
        "\n",
        "hmg_score = homogeneity_score(label_y, k_means.labels_)\n",
        "\n",
        "print(\"Homogeneity Score = \", hmg_score)\n",
        "\n",
        "#a cluster has homogeneity if all clusters contain only points from the same class\n",
        "#method takes in the actual label and the labels assigned by clustering model "
      ],
      "metadata": {
        "colab": {
          "base_uri": "https://localhost:8080/"
        },
        "id": "5JLoy_HeSooC",
        "outputId": "c26a7c53-77f2-4c47-85a8-fd63befbd729"
      },
      "execution_count": null,
      "outputs": [
        {
          "output_type": "stream",
          "name": "stdout",
          "text": [
            "Homogeneity Score =  0.3155003627756417\n"
          ]
        }
      ]
    },
    {
      "cell_type": "markdown",
      "source": [
        "Finding v measure score"
      ],
      "metadata": {
        "id": "c6aE4V7sTk4s"
      }
    },
    {
      "cell_type": "markdown",
      "source": [
        "<img src=\"https://media3.giphy.com/media/USnfWeCOHTHB3WX0aY/giphy_s.gif\"></img>"
      ],
      "metadata": {
        "id": "XX_I6OBfV3BG"
      }
    },
    {
      "cell_type": "code",
      "source": [
        "from sklearn.metrics import v_measure_score\n",
        "\n",
        "vm_score = v_measure_score(label_y, k_means.labels_)\n",
        "\n",
        "print(\"V Measure Score = \", vm_score)\n",
        "\n",
        "#v measure score/harmonic mean of the homogeneity score and the completeness score - harmonic mean usually used to find the average of rates"
      ],
      "metadata": {
        "colab": {
          "base_uri": "https://localhost:8080/"
        },
        "id": "NemORVJ0Ne7U",
        "outputId": "0162622b-247b-4bfc-b5da-8a8d481cc1fe"
      },
      "execution_count": null,
      "outputs": [
        {
          "output_type": "stream",
          "name": "stdout",
          "text": [
            "V Measure Score =  0.30033756140227647\n"
          ]
        }
      ]
    },
    {
      "cell_type": "markdown",
      "source": [
        "<img src=\"https://i.kym-cdn.com/entries/icons/mobile/000/025/543/eca.jpg\"></img>"
      ],
      "metadata": {
        "id": "8exEO6UwWaC1"
      }
    },
    {
      "cell_type": "markdown",
      "source": [
        "Finding completeness score"
      ],
      "metadata": {
        "id": "AdEB-YN_ToJc"
      }
    },
    {
      "cell_type": "code",
      "source": [
        "from sklearn.metrics import completeness_score\n",
        "\n",
        "comp_score = completeness_score(label_y, k_means.labels_)\n",
        "\n",
        "print(\"Completeness Score = \", comp_score)\n",
        "\n",
        "#clustering satisfies completeness if all the points that are members of the same class belong to the same cluster"
      ],
      "metadata": {
        "colab": {
          "base_uri": "https://localhost:8080/"
        },
        "id": "V-hXQbShTTKi",
        "outputId": "98c092bc-b2ec-47fa-ebf1-ad627b55f2d0"
      },
      "execution_count": null,
      "outputs": [
        {
          "output_type": "stream",
          "name": "stdout",
          "text": [
            "Completeness Score =  0.2865653627353229\n"
          ]
        }
      ]
    },
    {
      "cell_type": "markdown",
      "source": [
        "<img src=\"https://hungarytoday.hu/wp-content/uploads/2020/05/84261763_657262308148775_2968667943157628928_o-e1589799341315.jpg\"></img>"
      ],
      "metadata": {
        "id": "0C1Ast5tWiBz"
      }
    },
    {
      "cell_type": "markdown",
      "source": [
        "Finding adjusted-rand score"
      ],
      "metadata": {
        "id": "Blnu8RkJTuCs"
      }
    },
    {
      "cell_type": "code",
      "source": [
        "from sklearn.metrics import adjusted_rand_score\n",
        "\n",
        "adj_r_score = adjusted_rand_score(label_y, k_means.labels_)\n",
        "\n",
        "print(\"Adjusted_rand Score = \", adj_r_score)\n",
        "\n",
        "#this is a similarity measure between clusters which is adjusted for chance i.e random labelling of data points \n",
        "#when clusters have been randomly generated on your data, this score will be close to 0. It'll be close to 1 for the best possible clustering"
      ],
      "metadata": {
        "colab": {
          "base_uri": "https://localhost:8080/"
        },
        "id": "Ad1h5zfcTTNu",
        "outputId": "04caf391-efb2-423c-b867-7be1b4a0650e"
      },
      "execution_count": null,
      "outputs": [
        {
          "output_type": "stream",
          "name": "stdout",
          "text": [
            "Adjusted_rand Score =  0.11281925794858022\n"
          ]
        }
      ]
    },
    {
      "cell_type": "markdown",
      "source": [
        "<img src=\"https://static01.nyt.com/images/2016/08/05/us/05onfire1_xp/05onfire1_xp-videoSixteenByNineJumbo1600-v2.jpg\"></img>"
      ],
      "metadata": {
        "id": "8XLP4y3rYD1m"
      }
    },
    {
      "cell_type": "markdown",
      "source": [
        "Finding adjusted mutual info score"
      ],
      "metadata": {
        "id": "XtwrcjWTTwtp"
      }
    },
    {
      "cell_type": "code",
      "source": [
        "from sklearn.metrics import adjusted_mutual_info_score\n",
        "\n",
        "adj_mutual = adjusted_mutual_info_score(label_y, k_means.labels_, average_method='arithmetic')\n",
        "\n",
        "print(\"Adjusted mutual Score = \", adj_mutual)\n",
        "\n",
        "#mutual information is the information you get about 1 random variable by observing another random variable adjusted to accomodate for chance\n",
        "#I remember the example when you target ads to a customer based on what they bought in the past vs. targeting ads to a customer based on what other customers like them bought "
      ],
      "metadata": {
        "colab": {
          "base_uri": "https://localhost:8080/"
        },
        "id": "htbRm20uTTQg",
        "outputId": "7bdc2dc7-902d-4289-dd9d-a4d95f5827e0"
      },
      "execution_count": null,
      "outputs": [
        {
          "output_type": "stream",
          "name": "stdout",
          "text": [
            "Adjusted mutual Score =  0.2945981842532957\n"
          ]
        }
      ]
    },
    {
      "cell_type": "code",
      "source": [
        ""
      ],
      "metadata": {
        "id": "rq5WNWPlNe-Z"
      },
      "execution_count": null,
      "outputs": []
    }
  ]
}